{
  "nbformat": 4,
  "nbformat_minor": 0,
  "metadata": {
    "colab": {
      "provenance": []
    },
    "kernelspec": {
      "name": "python3",
      "display_name": "Python 3"
    },
    "language_info": {
      "name": "python"
    }
  },
  "cells": [
    {
      "cell_type": "markdown",
      "source": [
        "# **Prim's algorthim**"
      ],
      "metadata": {
        "id": "co6pfFN_GwY-"
      }
    },
    {
      "cell_type": "code",
      "source": [
        "class graph():\n",
        "  def __init__(self,vertices):\n",
        "   self.V = vertices\n",
        "   self.graph = [[0 for column in range(vertices)]\n",
        "   for row in range(vertices)]\n",
        "  def printMST(self,parent):\n",
        "    print(\"Edge \\tWeight\")\n",
        "    for i in range(1,self.V):\n",
        "      print(parent[i],\"-\",i,\"\\t\",self.graph[i][parent[i]])\n",
        "  def minKey(self,key,mstSet):\n",
        "    min = sys.maxsize\n",
        "    for v in range(self.V):\n",
        "      if key[v] < min and mstSet[v] == False:\n",
        "        min = key[v]\n",
        "        min_index = v\n",
        "    return min_index\n",
        "  def primMST(self):\n",
        "    key = [sys.maxsize] * self.V\n",
        "    parent = [None] * self.V\n",
        "    key[0] = 0\n",
        "    mstSet = [False] * self.V\n",
        "    parent[0] = -1\n",
        "    for cout in range(self.V):\n",
        "      u = self.minKey(key,mstSet)\n",
        "      mstSet[u] = True\n",
        "      for v in range(self.V):\n",
        "        if self.graph[u][v] > 0 and mstSet[v] == False and key[v] > self.graph[u][v]:\n",
        "          key[v] = self.graph[u][v]\n",
        "          parent[v] = u\n",
        "    self.printMST(parent)\n",
        "\n",
        "g=graph(5)\n",
        "g.graph=[[0,2,0,6,0],\n",
        "        [2,0,3,8,5],\n",
        "        [0,3,0,0,7],\n",
        "        [6,8,0,0,9],\n",
        "        [0,5,7,9,0]]\n",
        "print(\"Edges of MST are\")\n",
        "g.primMST();"
      ],
      "metadata": {
        "colab": {
          "base_uri": "https://localhost:8080/"
        },
        "id": "IjNM5ezfHGcT",
        "outputId": "a3646250-e29f-426a-e31e-c1149c1d7d84"
      },
      "execution_count": null,
      "outputs": [
        {
          "output_type": "stream",
          "name": "stdout",
          "text": [
            "Edges of MST are\n",
            "Edge \tWeight\n",
            "0 - 1 \t 2\n",
            "1 - 2 \t 3\n",
            "0 - 3 \t 6\n",
            "1 - 4 \t 5\n"
          ]
        }
      ]
    },
    {
      "cell_type": "markdown",
      "source": [
        "\n",
        "# **Kruskal Algorithm**"
      ],
      "metadata": {
        "id": "y8PHcAOKO4OE"
      }
    },
    {
      "cell_type": "code",
      "source": [
        "class Graph:\n",
        "    def __init__(self, vertices):\n",
        "        self.vertices = vertices\n",
        "        self.edges = []\n",
        "        self.adjacency = {v: [] for v in vertices}\n",
        "\n",
        "    def add_edge(self, u, v, weight):\n",
        "        self.edges.append((u, v, weight))\n",
        "        self.adjacency[u].append((v, weight))\n",
        "        self.adjacency[v].append((u, weight))\n",
        "\n",
        "    def find (self, parent, i):\n",
        "        if parent[i] == i:\n",
        "            return i\n",
        "        return self.find (parent, parent[i])\n",
        "\n",
        "    def union(self, parent, rank, x, y):\n",
        "        root_x = self.find (parent, x)\n",
        "        root_y = self.find (parent, y)\n",
        "        if rank[root_x] < rank[root_y]:\n",
        "            parent[root_x] = root_y\n",
        "        elif rank[root_x] > rank[root_y]:\n",
        "            parent[root_y] = root_x\n",
        "        else:\n",
        "            parent[root_y] = root_x\n",
        "            rank[root_x] += 1\n",
        "\n",
        "    def kruskal(self):\n",
        "        spanning_tree = set()\n",
        "        parent = {}\n",
        "        rank = {}\n",
        "        for v in self.vertices:\n",
        "            parent[v] = v\n",
        "            rank[v] = 0\n",
        "        sorted_edges = sorted(self.edges, key=lambda x: x[2])\n",
        "        for edge in sorted_edges:\n",
        "            u, v, weight = edge\n",
        "            root_u = self.find (parent, u)\n",
        "            root_v = self.find (parent, v)\n",
        "            if root_u != root_v:\n",
        "                spanning_tree.add(edge)\n",
        "                self.union(parent, rank, root_u, root_v)\n",
        "        return spanning_tree\n",
        "vertices = [0, 1, 2, 3]\n",
        "g = Graph(vertices)\n",
        "g.add_edge(0, 1, 5)\n",
        "g.add_edge(0, 2, 10)\n",
        "g.add_edge(0, 3, 3)\n",
        "g.add_edge(1, 3, 1)\n",
        "g.add_edge(2, 3, 4)\n",
        "spanning_tree = g.kruskal()\n",
        "print(spanning_tree)"
      ],
      "metadata": {
        "id": "6tzX3KmqPaFj",
        "colab": {
          "base_uri": "https://localhost:8080/"
        },
        "outputId": "941a6854-ac6e-4bef-da7d-c9f7862e535c"
      },
      "execution_count": null,
      "outputs": [
        {
          "output_type": "stream",
          "name": "stdout",
          "text": [
            "{(1, 3, 1), (2, 3, 4), (0, 3, 3)}\n"
          ]
        }
      ]
    },
    {
      "cell_type": "markdown",
      "source": [
        "# **Dijkstra's Algorithm**"
      ],
      "metadata": {
        "id": "to5_dPhjQxd0"
      }
    },
    {
      "cell_type": "code",
      "source": [
        "import sys\n",
        "vertices = [[0, 0, 1, 1, 0, 0, 0],\n",
        "            [0, 0, 1, 0, 0, 1, 0],\n",
        "            [1, 1, 0, 1, 1, 0, 0],\n",
        "            [1, 0, 1, 0, 0, 0, 1],\n",
        "            [0, 0, 1, 0, 0, 1, 0],\n",
        "            [0, 1, 0, 0, 1, 0, 1],\n",
        "            [0, 0, 0, 1, 0, 1, 0]]\n",
        "\n",
        "edges = [[0, 0, 1, 2, 0, 0, 0],\n",
        "         [0, 0, 2, 0, 0, 3, 0],\n",
        "         [1, 2, 0, 1, 3, 0, 0],\n",
        "         [2, 0, 1, 0, 0, 0, 1],\n",
        "         [0, 0, 3, 0, 0, 2, 0],\n",
        "         [0, 3, 0, 0, 2, 0, 1],\n",
        "         [0, 0, 0, 1, 0, 1, 0]]\n",
        "\n",
        "def to_be_visited():\n",
        "    global visited_and_distance\n",
        "    v = -10\n",
        "    for index in range(num_of_vertices):\n",
        "        if visited_and_distance[index][0] == 0 \\\n",
        "            and (v < 0 or visited_and_distance[index][1] <=\n",
        "                 visited_and_distance[v][1]):\n",
        "            v = index\n",
        "    return v\n",
        "num_of_vertices = len(vertices[0])\n",
        "\n",
        "visited_and_distance = [[0, 0]]\n",
        "for i in range(num_of_vertices-1):\n",
        "    visited_and_distance.append([0, sys.maxsize])\n",
        "for vertex in range(num_of_vertices):\n",
        "    to_visit = to_be_visited()\n",
        "    for neighbor_index in range(num_of_vertices):\n",
        "        if vertices[to_visit][neighbor_index] == 1 and \\\n",
        "                visited_and_distance[neighbor_index][0] == 0:\n",
        "            new_distance = visited_and_distance[to_visit][1] \\\n",
        "                + edges[to_visit][neighbor_index]\n",
        "            if visited_and_distance[neighbor_index][1] > new_distance:\n",
        "                visited_and_distance[neighbor_index][1] = new_distance\n",
        "        visited_and_distance[to_visit][0] = 1\n",
        "i = 0\n",
        "for distance in visited_and_distance:\n",
        "    print( distance[1])\n",
        "    i = i + 1"
      ],
      "metadata": {
        "colab": {
          "base_uri": "https://localhost:8080/"
        },
        "id": "TFlkuRnARMWc",
        "outputId": "330a79e3-4e90-4501-93e3-e6cd113d8367"
      },
      "execution_count": null,
      "outputs": [
        {
          "output_type": "stream",
          "name": "stdout",
          "text": [
            "0\n",
            "3\n",
            "1\n",
            "2\n",
            "4\n",
            "4\n",
            "3\n"
          ]
        }
      ]
    },
    {
      "cell_type": "markdown",
      "source": [
        "# **Topological sort**"
      ],
      "metadata": {
        "id": "ArUzXLavXYvE"
      }
    },
    {
      "cell_type": "code",
      "source": [
        "from collections import deque\n",
        "def topological_sort(adj,v):\n",
        "    indegree = [0] * v\n",
        "    for i in range(v):\n",
        "        for vertex in adj[i]:\n",
        "            indegree[vertex] += 1\n",
        "    q=deque()\n",
        "    for i in range (v):\n",
        "      if indegree[i]==0:\n",
        "        q.append(i)\n",
        "    result=[]\n",
        "    while q:\n",
        "        node = q.popleft()\n",
        "        result.append(node)\n",
        "        for adjacent in adj[node]:\n",
        "            indegree[adjacent] -= 1\n",
        "            if indegree[adjacent] == 0:\n",
        "              q.append(adjacent)\n",
        "    if len(result) != v:\n",
        "      print(\"cycle!\")\n",
        "      return[]\n",
        "    return result\n",
        "n=6\n",
        "edges=[[0, 1], [1, 2], [2, 3], [4, 5], [5, 1], [5, 2]]\n",
        "adj =[[]for _ in range(n)]\n",
        "for edge in edges:\n",
        "  adj[edge[0]].append(edge[1])\n",
        "  print(\"sort\",end=\" \")\n",
        "  result= topological_sort(adj,n)\n",
        "for vertex in result:\n",
        "  print(vertex,end=\" \")"
      ],
      "metadata": {
        "colab": {
          "base_uri": "https://localhost:8080/"
        },
        "id": "-56PPF4RSbD2",
        "outputId": "c8b5266a-1abf-441a-afda-47a3aa72f59c"
      },
      "execution_count": null,
      "outputs": [
        {
          "output_type": "stream",
          "name": "stdout",
          "text": [
            "sort sort sort sort sort sort 0 4 5 1 2 3 "
          ]
        }
      ]
    },
    {
      "cell_type": "markdown",
      "source": [
        "# **Heap sort**"
      ],
      "metadata": {
        "id": "nE1BaYlQRewr"
      }
    },
    {
      "cell_type": "code",
      "source": [
        "def heapify(arr, n, i):\n",
        "    largest = i\n",
        "    l = 2 * i + 1\n",
        "    r = 2 * i + 2\n",
        "    if l < n and arr[i] < arr[l]:\n",
        "        largest = l\n",
        "    if r < n and arr[largest] < arr[r]:\n",
        "        largest = r\n",
        "    if largest != i:\n",
        "        arr[i], arr[largest] = arr[largest], arr[i]\n",
        "        heapify(arr, n, largest)\n",
        "def heapSort(arr):\n",
        "    n = len(arr)\n",
        "    for i in range(n//2, -1, -1):\n",
        "        heapify(arr, n, i)\n",
        "    for i in range(n-1, 0, -1):\n",
        "        arr[i], arr[0] = arr[0], arr[i]\n",
        "        heapify(arr, i, 0)\n",
        "arr = [1, 12, 9, 5, 6, 10]\n",
        "heapSort(arr)\n",
        "n = len(arr)\n",
        "print(\"Sorted array is\")\n",
        "for i in range(n):\n",
        "    print(\"%d \" % arr[i], end='')"
      ],
      "metadata": {
        "colab": {
          "base_uri": "https://localhost:8080/"
        },
        "id": "tJ0Md6mob6Nl",
        "outputId": "3c947ba9-0009-4016-9523-99d38ccbde94"
      },
      "execution_count": null,
      "outputs": [
        {
          "output_type": "stream",
          "name": "stdout",
          "text": [
            "Sorted array is\n",
            "1 5 6 9 10 12 "
          ]
        }
      ]
    }
  ]
}