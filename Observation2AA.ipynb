{
  "nbformat": 4,
  "nbformat_minor": 0,
  "metadata": {
    "colab": {
      "provenance": []
    },
    "kernelspec": {
      "name": "python3",
      "display_name": "Python 3"
    },
    "language_info": {
      "name": "python"
    }
  },
  "cells": [
    {
      "cell_type": "markdown",
      "source": [
        "**BFS**"
      ],
      "metadata": {
        "id": "_2bzwPWpeW9t"
      }
    },
    {
      "cell_type": "code",
      "execution_count": null,
      "metadata": {
        "colab": {
          "base_uri": "https://localhost:8080/"
        },
        "id": "OQcLxwHleCTD",
        "outputId": "ef394ede-ced8-4d22-ca20-9ad28949d661"
      },
      "outputs": [
        {
          "output_type": "stream",
          "name": "stdout",
          "text": [
            "A B C D E "
          ]
        }
      ],
      "source": [
        "graph = {\n",
        "    'A': ['B', 'C', 'D'],\n",
        "    'B': ['A'],\n",
        "    'C': ['A', 'D'],\n",
        "    'D': ['A', 'C', 'E'],\n",
        "    'E': ['D']\n",
        "}\n",
        "def bfs(node):\n",
        "    visited = [False] * (len(graph))\n",
        "    queue = []\n",
        "    visited.append(node)\n",
        "    queue.append(node)\n",
        "    while queue:\n",
        "        v = queue.pop(0)\n",
        "        print(v, end=\" \")\n",
        "        for neigh in graph[v]:\n",
        "            if neigh not in visited:\n",
        "                visited.append(neigh)\n",
        "                queue.append(neigh)\n",
        "if __name__ == \"__main__\":\n",
        "    bfs('A')\n"
      ]
    },
    {
      "cell_type": "markdown",
      "source": [
        " **DFS**"
      ],
      "metadata": {
        "id": "fZ0zfauoG0vZ"
      }
    },
    {
      "cell_type": "code",
      "source": [
        "def dfs(graph, start, visited=None):\n",
        "    if visited is None:\n",
        "        visited = set()\n",
        "    visited.add(start)\n",
        "    print(start)\n",
        "    for next in graph[start] - visited:\n",
        "        dfs(graph, next, visited)\n",
        "    return visited\n",
        "graph = {'0': set(['1', '2']),\n",
        "         '1': set(['0', '3', '4']),\n",
        "         '2': set(['0']),\n",
        "         '3': set(['1']),\n",
        "         '4': set(['2', '3'])}\n",
        "\n",
        "dfs(graph, '1')\n"
      ],
      "metadata": {
        "colab": {
          "base_uri": "https://localhost:8080/"
        },
        "id": "KOSlqxdEowkZ",
        "outputId": "b031798a-f099-4541-9534-3bbfc8cb9708"
      },
      "execution_count": null,
      "outputs": [
        {
          "output_type": "stream",
          "name": "stdout",
          "text": [
            "1\n",
            "4\n",
            "3\n",
            "2\n",
            "0\n",
            "0\n",
            "3\n"
          ]
        },
        {
          "output_type": "execute_result",
          "data": {
            "text/plain": [
              "{'0', '1', '2', '3', '4'}"
            ]
          },
          "metadata": {},
          "execution_count": 5
        }
      ]
    },
    {
      "cell_type": "markdown",
      "source": [
        "**kosaraja**"
      ],
      "metadata": {
        "id": "gPgZwexRG_Wa"
      }
    },
    {
      "cell_type": "code",
      "source": [
        "from collections import defaultdict\n",
        "\n",
        "class Graph:\n",
        "\n",
        "    def __init__(self, vertex):\n",
        "        self.V = vertex\n",
        "        self.graph = defaultdict(list)\n",
        "\n",
        "    def add_edge(self, s, d):\n",
        "        self.graph[s].append(d)\n",
        "\n",
        "    def dfs(self, d, visited_vertex):\n",
        "        visited_vertex[d] = True\n",
        "        print(d, end='')\n",
        "        for i in self.graph[d]:\n",
        "            if not visited_vertex[i]:\n",
        "                self.dfs(i, visited_vertex)\n",
        "\n",
        "    def fill_order(self, d, visited_vertex, stack):\n",
        "        visited_vertex[d] = True\n",
        "        for i in self.graph[d]:\n",
        "            if not visited_vertex[i]:\n",
        "                self.fill_order(i, visited_vertex, stack)\n",
        "        stack = stack.append(d)\n",
        "\n",
        "    def transpose(self):\n",
        "        g = Graph(self.V)\n",
        "\n",
        "        for i in self.graph:\n",
        "            for j in self.graph[i]:\n",
        "                g.add_edge(j, i)\n",
        "        return g\n",
        "\n",
        "    def print_scc(self):\n",
        "        stack = []\n",
        "        visited_vertex = [False] * (self.V)\n",
        "\n",
        "        for i in range(self.V):\n",
        "            if not visited_vertex[i]:\n",
        "                self.fill_order(i, visited_vertex, stack)\n",
        "\n",
        "        gr = self.transpose()\n",
        "\n",
        "        visited_vertex = [False] * (self.V)\n",
        "\n",
        "        while stack:\n",
        "            i = stack.pop()\n",
        "            if not visited_vertex[i]:\n",
        "                gr.dfs(i, visited_vertex)\n",
        "                print(\"\")\n",
        "\n",
        "\n",
        "g = Graph(8)\n",
        "g.add_edge(0, 1)\n",
        "g.add_edge(1, 3)\n",
        "g.add_edge(1, 2)\n",
        "g.add_edge(1, 4)\n",
        "g.add_edge(2, 0)\n",
        "g.add_edge(2, 3)\n",
        "g.add_edge(3, 4)\n",
        "g.add_edge(4, 5)\n",
        "g.add_edge(4, 6)\n",
        "g.add_edge(5, 7)\n",
        "g.add_edge(6, 5)\n",
        "g.add_edge(7, 6)\n",
        "\n",
        "print(\"Strongly Connected Components:\")\n",
        "g.print_scc()\n"
      ],
      "metadata": {
        "colab": {
          "base_uri": "https://localhost:8080/"
        },
        "id": "rSfCPFQuxxNc",
        "outputId": "ae78498e-c6e1-4f76-a0c8-ff98170629e0"
      },
      "execution_count": null,
      "outputs": [
        {
          "output_type": "stream",
          "name": "stdout",
          "text": [
            "Strongly Connected Components:\n",
            "021\n",
            "3\n",
            "4\n",
            "567\n"
          ]
        }
      ]
    },
    {
      "cell_type": "markdown",
      "source": [
        "**Topological sort**"
      ],
      "metadata": {
        "id": "tcqDMrLdHHZK"
      }
    },
    {
      "cell_type": "code",
      "source": [
        "def topologicalSortUtil(v, adj, visited, stack):\n",
        "    visited[v] = True\n",
        "    for i in adj[v]:\n",
        "        if not visited[i]:\n",
        "            topologicalSortUtil(i, adj, visited, stack)\n",
        "    stack.append(v)\n",
        "def topologicalSort(adj, V):\n",
        "    stack = []\n",
        "    visited = [False] * V\n",
        "    for i in range(V):\n",
        "        if not visited[i]:\n",
        "            topologicalSortUtil(i, adj, visited, stack)\n",
        "    print(\"Topological sorting of the graph:\", end=\" \")\n",
        "    while stack:\n",
        "        print(stack.pop(), end=\" \")\n",
        "if __name__ == \"__main__\":\n",
        "    V = 4\n",
        "    edges = [[0, 1], [1, 2], [3, 1], [3, 2]]\n",
        "    adj = [[] for _ in range(V)]\n",
        "    for i in edges:\n",
        "        adj[i[0]].append(i[1])\n",
        "\n",
        "    topologicalSort(adj, V)\n"
      ],
      "metadata": {
        "colab": {
          "base_uri": "https://localhost:8080/"
        },
        "id": "VICxV5AMIN-d",
        "outputId": "a6be899f-2dad-4c1e-ca8c-f6fca0a591ef"
      },
      "execution_count": null,
      "outputs": [
        {
          "output_type": "stream",
          "name": "stdout",
          "text": [
            "Topological sorting of the graph: 3 0 1 2 "
          ]
        }
      ]
    }
  ]
}