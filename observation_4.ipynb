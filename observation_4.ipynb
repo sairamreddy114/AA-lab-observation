{
  "nbformat": 4,
  "nbformat_minor": 0,
  "metadata": {
    "colab": {
      "provenance": []
    },
    "kernelspec": {
      "name": "python3",
      "display_name": "Python 3"
    },
    "language_info": {
      "name": "python"
    }
  },
  "cells": [
    {
      "cell_type": "code",
      "execution_count": null,
      "metadata": {
        "colab": {
          "base_uri": "https://localhost:8080/"
        },
        "id": "iFnpKtUShIZz",
        "outputId": "e04d7579-017e-475e-a8ee-e215c1c020d6"
      },
      "outputs": [
        {
          "output_type": "stream",
          "name": "stdout",
          "text": [
            "Size of maximum matching is 4\n"
          ]
        }
      ],
      "source": [
        "from queue import Queue\n",
        "INF = 2147483647\n",
        "NIL = 0\n",
        "class BipGraph(object):\n",
        "    def __init__(self, m, n):\n",
        "        self.__m = m\n",
        "        self.__n = n\n",
        "        self.__adj = [[] for _ in range(m+1)]\n",
        "    def addEdge(self, u, v):\n",
        "        self.__adj[u].append(v)\n",
        "    def bfs(self):\n",
        "        Q = Queue()\n",
        "        for u in range(1, self.__m+1):\n",
        "            if self.__pairU[u] == NIL:\n",
        "                self.__dist[u] = 0\n",
        "                Q.put(u)\n",
        "            else:\n",
        "                self.__dist[u] = INF\n",
        "        self.__dist[NIL] = INF\n",
        "        while not Q.empty():\n",
        "            u = Q.get()\n",
        "            if self.__dist[u] < self.__dist[NIL]:\n",
        "                for v in self.__adj[u]:\n",
        "                    if self.__dist[self.__pairV[v]] == INF:\n",
        "                        self.__dist[self.__pairV[v]] = self.__dist[u] + 1\n",
        "                        Q.put(self.__pairV[v])\n",
        "        return self.__dist[NIL] != INF\n",
        "    def dfs(self, u):\n",
        "        if u != NIL:\n",
        "            for v in self.__adj[u]:\n",
        "                if self.__dist[self.__pairV[v]] == self.__dist[u] + 1:\n",
        "                    if self.dfs(self.__pairV[v]):\n",
        "                        self.__pairV[v] = u\n",
        "                        self.__pairU[u] = v\n",
        "                        return True\n",
        "            self.__dist[u] = INF\n",
        "            return False\n",
        "        return True\n",
        "    def hopcroftKarp(self):\n",
        "        self.__pairU = [0 for _ in range(self.__m+1)]\n",
        "        self.__pairV = [0 for _ in range(self.__n+1)]\n",
        "        self.__dist = [0 for _ in range(self.__m+1)]\n",
        "        result = 0\n",
        "        while self.bfs():\n",
        "            for u in range(1, self.__m+1):\n",
        "                if self.__pairU[u] == NIL and self.dfs(u):\n",
        "                    result += 1\n",
        "        return result\n",
        "if __name__ == \"__main__\":\n",
        "    g = BipGraph(4, 4)\n",
        "    g.addEdge(1, 2)\n",
        "    g.addEdge(1, 3)\n",
        "    g.addEdge(2, 1)\n",
        "    g.addEdge(3, 2)\n",
        "    g.addEdge(4, 2)\n",
        "    g.addEdge(4, 4)\n",
        "    print(\"Size of maximum matching is %d\" % g.hopcroftKarp())\n"
      ]
    }
  ]
}