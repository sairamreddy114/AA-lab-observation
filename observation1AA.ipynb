{
  "nbformat": 4,
  "nbformat_minor": 0,
  "metadata": {
    "colab": {
      "provenance": []
    },
    "kernelspec": {
      "name": "python3",
      "display_name": "Python 3"
    },
    "language_info": {
      "name": "python"
    }
  },
  "cells": [
    {
      "cell_type": "markdown",
      "source": [
        "**INSERTION SORT**"
      ],
      "metadata": {
        "id": "4aMdfaExBWtp"
      }
    },
    {
      "cell_type": "code",
      "execution_count": null,
      "metadata": {
        "colab": {
          "base_uri": "https://localhost:8080/"
        },
        "id": "SSvSDLJbA6Vq",
        "outputId": "edee414c-ce0d-40ef-9147-1e1249c4b421"
      },
      "outputs": [
        {
          "output_type": "stream",
          "name": "stdout",
          "text": [
            "Array after sorting:\n",
            "[2, 5, 8, 10, 13]\n"
          ]
        }
      ],
      "source": [
        "def InsertionSort(a):\n",
        "\n",
        "    for i in range(1, len(a)):\n",
        "\n",
        "        temp = a[i]\n",
        "        j = i-1\n",
        "        while j >=0 and temp < a[j] :\n",
        "                a[j+1] = a[j]\n",
        "                j -= 1\n",
        "        a[j+1] = temp\n",
        "\n",
        "a = [10, 5, 13, 8, 2]\n",
        "InsertionSort(a)\n",
        "print(\"Array after sorting:\")\n",
        "print(a)\n"
      ]
    },
    {
      "cell_type": "markdown",
      "source": [
        "**SELECTION SORT**"
      ],
      "metadata": {
        "id": "DN8jnMriCk4p"
      }
    },
    {
      "cell_type": "code",
      "source": [
        "Array = [5,6,4,2]\n",
        "\n",
        "for i in range(len(Array)):\n",
        "\n",
        "    min_indx = i\n",
        "    for j in range(i+1, len(Array)):\n",
        "\n",
        "        if Array[min_indx] > Array[j]:\n",
        "            min_indx = j\n",
        "\n",
        "    Array[i], Array[min_indx] = Array[min_indx], Array[i]\n",
        "\n",
        "\n",
        "print(Array)\n"
      ],
      "metadata": {
        "colab": {
          "base_uri": "https://localhost:8080/"
        },
        "id": "faqq3R_eBhwJ",
        "outputId": "655e744a-5736-4d19-9b5b-d0c6c00d8851"
      },
      "execution_count": null,
      "outputs": [
        {
          "output_type": "stream",
          "name": "stdout",
          "text": [
            "[2, 4, 5, 6]\n"
          ]
        }
      ]
    },
    {
      "cell_type": "markdown",
      "source": [
        "**QUICK SORT**"
      ],
      "metadata": {
        "id": "RbiHvqXiEgpj"
      }
    },
    {
      "cell_type": "code",
      "source": [
        "def quicksort(arr, lo, hi):\n",
        "\n",
        "    if lo < hi:\n",
        "        p = partition(arr, lo, hi)\n",
        "        quicksort(arr, lo, p-1)\n",
        "        quicksort(arr, p+1, hi)\n",
        "def partition(arr, lo, hi):\n",
        "    pivot = arr[hi]\n",
        "    i = lo - 1\n",
        "\n",
        "    for j in range(lo, hi):\n",
        "        if arr[j] <= pivot:\n",
        "            i += 1\n",
        "            arr[i], arr[j] = arr[j], arr[i]\n",
        "    arr[i+1], arr[hi] = arr[hi], arr[i+1]\n",
        "    return i+1\n",
        "arr = [10, 7, 8, 9, 1, 5]\n",
        "n = len(arr)\n",
        "quicksort(arr, 0, n-1)\n",
        "print(\"Sorted array:\", arr)"
      ],
      "metadata": {
        "colab": {
          "base_uri": "https://localhost:8080/"
        },
        "id": "h6sgjvwtB-Uc",
        "outputId": "74d384cc-4cfb-468a-e7cc-f1090b2cafb7"
      },
      "execution_count": null,
      "outputs": [
        {
          "output_type": "stream",
          "name": "stdout",
          "text": [
            "Sorted array: [1, 5, 7, 8, 9, 10]\n"
          ]
        }
      ]
    },
    {
      "cell_type": "markdown",
      "source": [
        "**Bubble_sort**"
      ],
      "metadata": {
        "id": "Hc-i7nqDSrNS"
      }
    },
    {
      "cell_type": "code",
      "source": [
        "def bubble_sort(arr):\n",
        "    n = len(arr)\n",
        "    for i in range(n):\n",
        "        for j in range(0, n-i-1):\n",
        "            if arr[j] > arr[j+1]:\n",
        "                arr[j], arr[j+1] = arr[j+1], arr[j]\n",
        "if __name__ == \"__main__\":\n",
        "    sample_list = [64, 34, 25, 12, 22, 11, 90]\n",
        "    print(\"Original List:\", sample_list)\n",
        "    bubble_sort(sample_list)\n",
        "    print(\"Sorted List:\", sample_list)"
      ],
      "metadata": {
        "colab": {
          "base_uri": "https://localhost:8080/"
        },
        "id": "m09rjbitSnBO",
        "outputId": "2971e0b0-3159-4e06-c189-340edf2084aa"
      },
      "execution_count": null,
      "outputs": [
        {
          "output_type": "stream",
          "name": "stdout",
          "text": [
            "Original List: [64, 34, 25, 12, 22, 11, 90]\n",
            "Sorted List: [11, 12, 22, 25, 34, 64, 90]\n"
          ]
        }
      ]
    },
    {
      "cell_type": "markdown",
      "source": [
        "**Merge sort**"
      ],
      "metadata": {
        "id": "ocbv0ShvWrGa"
      }
    },
    {
      "cell_type": "code",
      "source": [
        "def mergeSort(arr):\n",
        "    if len(arr) > 1:\n",
        "        mid = len(arr)//2\n",
        "        sub_array1 = arr[:mid]\n",
        "        sub_array2 = arr[mid:]\n",
        "        mergeSort(sub_array1)\n",
        "        mergeSort(sub_array2)\n",
        "        i = j = k = 0\n",
        "\n",
        "        while i < len(sub_array1) and j < len(sub_array2):\n",
        "            if sub_array1[i] < sub_array2[j]:\n",
        "                arr[k] = sub_array1[i]\n",
        "                i += 1\n",
        "            else:\n",
        "                arr[k] = sub_array2[j]\n",
        "                j += 1\n",
        "            k += 1\n",
        "        while i < len(sub_array1):\n",
        "            arr[k] = sub_array1[i]\n",
        "            i += 1\n",
        "            k += 1\n",
        "\n",
        "        while j < len(sub_array2):\n",
        "            arr[k] = sub_array2[j]\n",
        "            j += 1\n",
        "            k += 1\n",
        "\n",
        "arr = [10, 9, 2, 4, 6, 13]\n",
        "mergeSort(arr)\n",
        "print(arr)"
      ],
      "metadata": {
        "id": "J0d4PpYOSm_N",
        "colab": {
          "base_uri": "https://localhost:8080/"
        },
        "outputId": "47cd60e2-f8a8-46ce-ef3a-0605e8b49666"
      },
      "execution_count": null,
      "outputs": [
        {
          "output_type": "stream",
          "name": "stdout",
          "text": [
            "[2, 4, 6, 9, 10, 13]\n"
          ]
        }
      ]
    }
  ]
}