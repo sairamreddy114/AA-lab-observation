{
  "nbformat": 4,
  "nbformat_minor": 0,
  "metadata": {
    "colab": {
      "provenance": []
    },
    "kernelspec": {
      "name": "python3",
      "display_name": "Python 3"
    },
    "language_info": {
      "name": "python"
    }
  },
  "cells": [
    {
      "cell_type": "markdown",
      "source": [
        "# **Floyd_Warshall**"
      ],
      "metadata": {
        "id": "7kahvc5jnWLN"
      }
    },
    {
      "cell_type": "code",
      "execution_count": null,
      "metadata": {
        "colab": {
          "base_uri": "https://localhost:8080/"
        },
        "id": "e94c8J2vlFuy",
        "outputId": "843c303f-e0ba-4095-c39e-c8962f5eec41"
      },
      "outputs": [
        {
          "output_type": "stream",
          "name": "stdout",
          "text": [
            "Shortest path matrix:\n",
            "[0, 3, 5, 6]\n",
            "[5, 0, 2, 3]\n",
            "[3, 6, 0, 1]\n",
            "[2, 5, 7, 0]\n"
          ]
        }
      ],
      "source": [
        "def floyd_warshall(graph):\n",
        "    V = len(graph)\n",
        "    dist = [[float('inf')] * V for _ in range(V)]\n",
        "\n",
        "    for i in range(V):\n",
        "        for j in range(V):\n",
        "            if i == j:\n",
        "                dist[i][j] = 0\n",
        "            elif graph[i][j] != 0:\n",
        "                dist[i][j] = graph[i][j]\n",
        "    for k in range(V):\n",
        "        for i in range(V):\n",
        "            for j in range(V):\n",
        "                dist[i][j] = min(dist[i][j], dist[i][k] + dist[k][j])\n",
        "    return dist\n",
        "if __name__ == \"__main__\":\n",
        "    graph = [\n",
        "        [0, 3, float('inf'), 7],\n",
        "        [8, 0, 2, float('inf')],\n",
        "        [5, float('inf'), 0, 1],\n",
        "        [2, float('inf'), float('inf'), 0]\n",
        "    ]\n",
        "    shortest_paths = floyd_warshall(graph)\n",
        "    print(\"Shortest path matrix:\")\n",
        "    for row in shortest_paths:\n",
        "        print(row)"
      ]
    },
    {
      "cell_type": "markdown",
      "source": [
        "# **Strassen**"
      ],
      "metadata": {
        "id": "6BywwxK_rBEP"
      }
    },
    {
      "cell_type": "code",
      "source": [
        "import numpy as np\n",
        "def strassen(A, B):\n",
        "    if len(A) == 1:\n",
        "        return A * B\n",
        "    mid = len(A) // 2\n",
        "    A11 = A[:mid, :mid]\n",
        "    A12 = A[:mid, mid:]\n",
        "    A21 = A[mid:, :mid]\n",
        "    A22 = A[mid:, mid:]\n",
        "\n",
        "    B11 = B[:mid, :mid]\n",
        "    B12 = B[:mid, mid:]\n",
        "    B21 = B[mid:, :mid]\n",
        "    B22 = B[mid:, mid:]\n",
        "\n",
        "    M1 = strassen(A11 + A22, B11 + B22)\n",
        "    M2 = strassen(A21 + A22, B11)\n",
        "    M3 = strassen(A11, B12 - B22)\n",
        "    M4 = strassen(A22, B21 - B11)\n",
        "    M5 = strassen(A11 + A12, B22)\n",
        "    M6 = strassen(A21 - A11, B11 + B12)\n",
        "    M7 = strassen(A12 - A22, B21 + B22)\n",
        "\n",
        "    C11 = M1 + M4 - M5 + M7\n",
        "    C12 = M3 + M5\n",
        "    C21 = M2 + M4\n",
        "    C22 = M1 - M2 + M3 + M6\n",
        "\n",
        "    C = np.zeros((len(A), len(B)))\n",
        "    C[:mid, :mid] = C11\n",
        "    C[:mid, mid:] = C12\n",
        "    C[mid:, :mid] = C21\n",
        "    C[mid:, mid:] = C22\n",
        "    return C\n",
        "if __name__ == \"__main__\":\n",
        "    A = np.array([[1, 2], [3, 4]])\n",
        "    B = np.array([[5, 6], [7, 8]])\n",
        "    C = strassen(A, B)\n",
        "    print(\"Result of Strassen's matrix multiplication:\")\n",
        "    print(C)"
      ],
      "metadata": {
        "colab": {
          "base_uri": "https://localhost:8080/"
        },
        "id": "EO62wRIym1hn",
        "outputId": "9d8626cf-a194-4e49-b406-477d68abb531"
      },
      "execution_count": null,
      "outputs": [
        {
          "output_type": "stream",
          "name": "stdout",
          "text": [
            "Result of Strassen's matrix multiplication:\n",
            "[[19. 22.]\n",
            " [43. 50.]]\n"
          ]
        }
      ]
    }
  ]
}