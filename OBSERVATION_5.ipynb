{
  "nbformat": 4,
  "nbformat_minor": 0,
  "metadata": {
    "colab": {
      "provenance": []
    },
    "kernelspec": {
      "name": "python3",
      "display_name": "Python 3"
    },
    "language_info": {
      "name": "python"
    }
  },
  "cells": [
    {
      "cell_type": "markdown",
      "source": [
        "# **FordFulkerson BFS**"
      ],
      "metadata": {
        "id": "Ndc7YbI0ZDuz"
      }
    },
    {
      "cell_type": "code",
      "execution_count": null,
      "metadata": {
        "colab": {
          "base_uri": "https://localhost:8080/"
        },
        "id": "BGDNqPkPJnsi",
        "outputId": "88541267-2e54-44db-bb1f-c2a0edc5ecd4"
      },
      "outputs": [
        {
          "output_type": "stream",
          "name": "stdout",
          "text": [
            "The maximum possible flow is 23 \n"
          ]
        }
      ],
      "source": [
        "from collections import defaultdict\n",
        "class Graph:\n",
        "\tdef __init__(self, graph):\n",
        "\t\tself.graph = graph\n",
        "\t\tself. ROW = len(graph)\n",
        "\tdef BFS(self, s, t, parent):\n",
        "\t\tvisited = [False]*(self.ROW)\n",
        "\t\tqueue = []\n",
        "\t\tqueue.append(s)\n",
        "\t\tvisited[s] = True\n",
        "\t\twhile queue:\n",
        "\t\t\tu = queue.pop(0)\n",
        "\t\t\tfor ind, val in enumerate(self.graph[u]):\n",
        "\t\t\t\tif visited[ind] == False and val > 0:\n",
        "\t\t\t\t\tqueue.append(ind)\n",
        "\t\t\t\t\tvisited[ind] = True\n",
        "\t\t\t\t\tparent[ind] = u\n",
        "\t\t\t\t\tif ind == t:\n",
        "\t\t\t\t\t\treturn True\n",
        "\t\treturn False\n",
        "\tdef FordFulkerson(self, source, sink):\n",
        "\t\tparent = [-1]*(self.ROW)\n",
        "\t\tmax_flow = 0\n",
        "\t\twhile self.BFS(source, sink, parent) :\n",
        "\t\t\tpath_flow = float(\"Inf\")\n",
        "\t\t\ts = sink\n",
        "\t\t\twhile(s != source):\n",
        "\t\t\t\tpath_flow = min (path_flow, self.graph[parent[s]][s])\n",
        "\t\t\t\ts = parent[s]\n",
        "\t\t\tmax_flow += path_flow\n",
        "\t\t\tv = sink\n",
        "\t\t\twhile(v != source):\n",
        "\t\t\t\tu = parent[v]\n",
        "\t\t\t\tself.graph[u][v] -= path_flow\n",
        "\t\t\t\tself.graph[v][u] += path_flow\n",
        "\t\t\t\tv = parent[v]\n",
        "\t\treturn max_flow\n",
        "graph = [[0, 16, 13, 0, 0, 0],\n",
        "\t\t[0, 0, 10, 12, 0, 0],\n",
        "\t\t[0, 4, 0, 0, 14, 0],\n",
        "\t\t[0, 0, 9, 0, 0, 20],\n",
        "\t\t[0, 0, 0, 7, 0, 4],\n",
        "\t\t[0, 0, 0, 0, 0, 0]]\n",
        "\n",
        "g = Graph(graph)\n",
        "source = 0; sink = 5\n",
        "print (\"The maximum possible flow is %d \" % g.FordFulkerson(source, sink))"
      ]
    },
    {
      "cell_type": "markdown",
      "source": [
        "## **EDMOND BLOOSON ALGORTHIM**"
      ],
      "metadata": {
        "id": "Z61f3VTtjPIR"
      }
    },
    {
      "cell_type": "code",
      "source": [
        "class Graph:\n",
        "    def __init__(self, vertices):\n",
        "        self.V = vertices  # Number of vertices\n",
        "        self.graph = [[0] * vertices for _ in range(vertices)]  # Residual graph\n",
        "\n",
        "    def add_edge(self, u, v, w):\n",
        "        self.graph[u][v] += w  # Adding capacity to the graph\n",
        "\n",
        "    def bfs(self, source, sink, parent):\n",
        "        visited = [False] * self.V\n",
        "        queue = [source]\n",
        "        visited[source] = True\n",
        "\n",
        "        while queue:\n",
        "            u = queue.pop(0)\n",
        "\n",
        "            for v in range(self.V):\n",
        "                if not visited[v] and self.graph[u][v] > 0:  # Check for unvisited and positive capacity\n",
        "                    queue.append(v)\n",
        "                    visited[v] = True\n",
        "                    parent[v] = u\n",
        "\n",
        "                    if v == sink:\n",
        "                        return True\n",
        "\n",
        "        return False\n",
        "\n",
        "    def ford_fulkerson(self, source, sink):\n",
        "        parent = [-1] * self.V\n",
        "        max_flow = 0\n",
        "\n",
        "        while self.bfs(source, sink, parent):\n",
        "            path_flow = float('Inf')\n",
        "            s = sink\n",
        "\n",
        "            while s != source:\n",
        "                path_flow = min(path_flow, self.graph[parent[s]][s])\n",
        "                s = parent[s]\n",
        "\n",
        "            max_flow += path_flow\n",
        "\n",
        "            v = sink\n",
        "            while v != source:\n",
        "                u = parent[v]\n",
        "                self.graph[u][v] -= path_flow\n",
        "                self.graph[v][u] += path_flow\n",
        "                v = parent[v]\n",
        "\n",
        "        return max_flow\n",
        "\n",
        "    def min_cut(self, source):\n",
        "        visited = [False] * self.V\n",
        "        self.dfs(source, visited)\n",
        "\n",
        "        min_cut_edges = []\n",
        "        for u in range(self.V):\n",
        "            for v in range(self.V):\n",
        "                if visited[u] and not visited[v] and self.graph[u][v] == 0:\n",
        "                    min_cut_edges.append((u, v))\n",
        "        return min_cut_edges\n",
        "\n",
        "    def dfs(self, u, visited):\n",
        "        visited[u] = True\n",
        "        for v in range(self.V):\n",
        "            if self.graph[u][v] > 0 and not visited[v]:\n",
        "                self.dfs(v, visited)\n",
        "\n",
        "\n",
        "# Example Usage\n",
        "g = Graph(6)\n",
        "g.add_edge(0, 1, 16)\n",
        "g.add_edge(0, 2, 13)\n",
        "g.add_edge(1, 2, 10)\n",
        "g.add_edge(1, 3, 12)\n",
        "g.add_edge(2, 1, 4)\n",
        "g.add_edge(2, 4, 14)\n",
        "g.add_edge(3, 2, 9)\n",
        "g.add_edge(3, 5, 20)\n",
        "g.add_edge(4, 3, 7)\n",
        "g.add_edge(4, 5, 4)\n",
        "\n",
        "source = 0\n",
        "sink = 5\n",
        "max_flow = g.ford_fulkerson(source, sink)\n",
        "print(f'Maximum Flow: {max_flow}')\n",
        "\n",
        "min_cut_edges = g.min_cut(source)\n",
        "print(f'Min Cut Edges: {min_cut_edges}')\n"
      ],
      "metadata": {
        "colab": {
          "base_uri": "https://localhost:8080/"
        },
        "id": "5wK_iOZMbFRS",
        "outputId": "1e1c7ee3-f04e-4de8-eb89-8a994d4a8649"
      },
      "execution_count": null,
      "outputs": [
        {
          "output_type": "stream",
          "name": "stdout",
          "text": [
            "Maximum Flow: 23\n",
            "Min Cut Edges: [(0, 3), (0, 5), (1, 3), (1, 5), (2, 3), (2, 5), (4, 3), (4, 5)]\n"
          ]
        }
      ]
    }
  ]
}